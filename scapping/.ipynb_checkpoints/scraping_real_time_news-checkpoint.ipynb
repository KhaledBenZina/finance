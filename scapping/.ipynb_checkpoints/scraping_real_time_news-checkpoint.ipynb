{
 "cells": [
  {
   "cell_type": "code",
   "execution_count": 1,
   "metadata": {},
   "outputs": [
    {
     "ename": "TypeError",
     "evalue": "expected str, bytes or os.PathLike object, not NoneType",
     "output_type": "error",
     "traceback": [
      "\u001b[0;31m---------------------------------------------------------------------------\u001b[0m",
      "\u001b[0;31mTypeError\u001b[0m                                 Traceback (most recent call last)",
      "\u001b[1;32m/home/khaled/spec_proj/finance/scapping/scraping_real_time_news.ipynb Cell 1\u001b[0m line \u001b[0;36m5\n\u001b[1;32m      <a href='vscode-notebook-cell:/home/khaled/spec_proj/finance/scapping/scraping_real_time_news.ipynb#W0sZmlsZQ%3D%3D?line=2'>3</a>\u001b[0m \u001b[39mfrom\u001b[39;00m \u001b[39mbs4\u001b[39;00m \u001b[39mimport\u001b[39;00m BeautifulSoup \u001b[39mas\u001b[39;00m soup\n\u001b[1;32m      <a href='vscode-notebook-cell:/home/khaled/spec_proj/finance/scapping/scraping_real_time_news.ipynb#W0sZmlsZQ%3D%3D?line=3'>4</a>\u001b[0m \u001b[39mfrom\u001b[39;00m \u001b[39murllib\u001b[39;00m\u001b[39m.\u001b[39;00m\u001b[39mrequest\u001b[39;00m \u001b[39mimport\u001b[39;00m Request, urlopen\n\u001b[0;32m----> <a href='vscode-notebook-cell:/home/khaled/spec_proj/finance/scapping/scraping_real_time_news.ipynb#W0sZmlsZQ%3D%3D?line=4'>5</a>\u001b[0m \u001b[39mfrom\u001b[39;00m \u001b[39mpandasgui\u001b[39;00m \u001b[39mimport\u001b[39;00m show\n",
      "File \u001b[0;32m~/mambaforge/envs/perso/lib/python3.11/site-packages/pandasgui/__init__.py:15\u001b[0m\n\u001b[1;32m     12\u001b[0m logger\u001b[39m.\u001b[39maddHandler(sh)\n\u001b[1;32m     14\u001b[0m \u001b[39m# Imports\u001b[39;00m\n\u001b[0;32m---> 15\u001b[0m \u001b[39mfrom\u001b[39;00m \u001b[39mpandasgui\u001b[39;00m\u001b[39m.\u001b[39;00m\u001b[39mgui\u001b[39;00m \u001b[39mimport\u001b[39;00m show\n\u001b[1;32m     17\u001b[0m __all__ \u001b[39m=\u001b[39m [\u001b[39m\"\u001b[39m\u001b[39mshow\u001b[39m\u001b[39m\"\u001b[39m, \u001b[39m\"\u001b[39m\u001b[39m__version__\u001b[39m\u001b[39m\"\u001b[39m]\n",
      "File \u001b[0;32m~/mambaforge/envs/perso/lib/python3.11/site-packages/pandasgui/gui.py:13\u001b[0m\n\u001b[1;32m     10\u001b[0m \u001b[39mfrom\u001b[39;00m \u001b[39mPyQt5\u001b[39;00m\u001b[39m.\u001b[39;00m\u001b[39mQtCore\u001b[39;00m \u001b[39mimport\u001b[39;00m Qt\n\u001b[1;32m     12\u001b[0m \u001b[39mimport\u001b[39;00m \u001b[39mpandasgui\u001b[39;00m\n\u001b[0;32m---> 13\u001b[0m \u001b[39mfrom\u001b[39;00m \u001b[39mpandasgui\u001b[39;00m\u001b[39m.\u001b[39;00m\u001b[39mconstants\u001b[39;00m \u001b[39mimport\u001b[39;00m PANDASGUI_ICON_PATH\n\u001b[1;32m     14\u001b[0m \u001b[39mfrom\u001b[39;00m \u001b[39mpandasgui\u001b[39;00m\u001b[39m.\u001b[39;00m\u001b[39mstore\u001b[39;00m \u001b[39mimport\u001b[39;00m PandasGuiStore, SettingsSchema\n\u001b[1;32m     15\u001b[0m \u001b[39mfrom\u001b[39;00m \u001b[39mpandasgui\u001b[39;00m\u001b[39m.\u001b[39;00m\u001b[39mutility\u001b[39;00m \u001b[39mimport\u001b[39;00m as_dict, fix_ipython, get_figure_type, resize_widget\n",
      "File \u001b[0;32m~/mambaforge/envs/perso/lib/python3.11/site-packages/pandasgui/constants.py:15\u001b[0m\n\u001b[1;32m     12\u001b[0m PANDASGUI_ICON_PATH \u001b[39m=\u001b[39m pkg_resources\u001b[39m.\u001b[39mresource_filename(\u001b[39m__name__\u001b[39m, \u001b[39m\"\u001b[39m\u001b[39mresources/images/icon.png\u001b[39m\u001b[39m\"\u001b[39m)\n\u001b[1;32m     13\u001b[0m PANDASGUI_ICON_PATH_ICO \u001b[39m=\u001b[39m pkg_resources\u001b[39m.\u001b[39mresource_filename(\u001b[39m__name__\u001b[39m, \u001b[39m\"\u001b[39m\u001b[39mresources/images/icon.ico\u001b[39m\u001b[39m\"\u001b[39m)\n\u001b[0;32m---> 15\u001b[0m SHORTCUT_PATH \u001b[39m=\u001b[39m os\u001b[39m.\u001b[39;49mpath\u001b[39m.\u001b[39;49mjoin(os\u001b[39m.\u001b[39;49mgetenv(\u001b[39m'\u001b[39;49m\u001b[39mAPPDATA\u001b[39;49m\u001b[39m'\u001b[39;49m), \u001b[39m'\u001b[39;49m\u001b[39mMicrosoft/Windows/Start Menu/Programs/PandasGUI.lnk\u001b[39;49m\u001b[39m'\u001b[39;49m, )\n\u001b[1;32m     16\u001b[0m PY_INTERPRETTER_PATH \u001b[39m=\u001b[39m os\u001b[39m.\u001b[39mpath\u001b[39m.\u001b[39mjoin(os\u001b[39m.\u001b[39mpath\u001b[39m.\u001b[39mdirname(sys\u001b[39m.\u001b[39mexecutable), \u001b[39m'\u001b[39m\u001b[39mpython.exe\u001b[39m\u001b[39m'\u001b[39m)\n\u001b[1;32m     17\u001b[0m PYW_INTERPRETTER_PATH \u001b[39m=\u001b[39m os\u001b[39m.\u001b[39mpath\u001b[39m.\u001b[39mjoin(os\u001b[39m.\u001b[39mpath\u001b[39m.\u001b[39mdirname(sys\u001b[39m.\u001b[39mexecutable), \u001b[39m'\u001b[39m\u001b[39mpythonw.exe\u001b[39m\u001b[39m'\u001b[39m)\n",
      "File \u001b[0;32m<frozen posixpath>:76\u001b[0m, in \u001b[0;36mjoin\u001b[0;34m(a, *p)\u001b[0m\n",
      "\u001b[0;31mTypeError\u001b[0m: expected str, bytes or os.PathLike object, not NoneType"
     ]
    }
   ],
   "source": [
    "# Import dependencies\n",
    "import pandas as pd\n",
    "from bs4 import BeautifulSoup as soup\n",
    "from urllib.request import Request, urlopen\n",
    "from pandasgui import show"
   ]
  },
  {
   "cell_type": "code",
   "execution_count": 3,
   "metadata": {},
   "outputs": [
    {
     "ename": "TypeError",
     "evalue": "expected str, bytes or os.PathLike object, not NoneType",
     "output_type": "error",
     "traceback": [
      "\u001b[0;31m---------------------------------------------------------------------------\u001b[0m",
      "\u001b[0;31mTypeError\u001b[0m                                 Traceback (most recent call last)",
      "\u001b[1;32m/home/khaled/spec_proj/finance/scapping/scraping_real_time_news.ipynb Cell 2\u001b[0m line \u001b[0;36m1\n\u001b[0;32m----> <a href='vscode-notebook-cell:/home/khaled/spec_proj/finance/scapping/scraping_real_time_news.ipynb#W1sZmlsZQ%3D%3D?line=0'>1</a>\u001b[0m \u001b[39mimport\u001b[39;00m \u001b[39mpandasgui\u001b[39;00m\n",
      "File \u001b[0;32m~/mambaforge/envs/perso/lib/python3.11/site-packages/pandasgui/__init__.py:15\u001b[0m\n\u001b[1;32m     12\u001b[0m logger\u001b[39m.\u001b[39maddHandler(sh)\n\u001b[1;32m     14\u001b[0m \u001b[39m# Imports\u001b[39;00m\n\u001b[0;32m---> 15\u001b[0m \u001b[39mfrom\u001b[39;00m \u001b[39mpandasgui\u001b[39;00m\u001b[39m.\u001b[39;00m\u001b[39mgui\u001b[39;00m \u001b[39mimport\u001b[39;00m show\n\u001b[1;32m     17\u001b[0m __all__ \u001b[39m=\u001b[39m [\u001b[39m\"\u001b[39m\u001b[39mshow\u001b[39m\u001b[39m\"\u001b[39m, \u001b[39m\"\u001b[39m\u001b[39m__version__\u001b[39m\u001b[39m\"\u001b[39m]\n",
      "File \u001b[0;32m~/mambaforge/envs/perso/lib/python3.11/site-packages/pandasgui/gui.py:13\u001b[0m\n\u001b[1;32m     10\u001b[0m \u001b[39mfrom\u001b[39;00m \u001b[39mPyQt5\u001b[39;00m\u001b[39m.\u001b[39;00m\u001b[39mQtCore\u001b[39;00m \u001b[39mimport\u001b[39;00m Qt\n\u001b[1;32m     12\u001b[0m \u001b[39mimport\u001b[39;00m \u001b[39mpandasgui\u001b[39;00m\n\u001b[0;32m---> 13\u001b[0m \u001b[39mfrom\u001b[39;00m \u001b[39mpandasgui\u001b[39;00m\u001b[39m.\u001b[39;00m\u001b[39mconstants\u001b[39;00m \u001b[39mimport\u001b[39;00m PANDASGUI_ICON_PATH\n\u001b[1;32m     14\u001b[0m \u001b[39mfrom\u001b[39;00m \u001b[39mpandasgui\u001b[39;00m\u001b[39m.\u001b[39;00m\u001b[39mstore\u001b[39;00m \u001b[39mimport\u001b[39;00m PandasGuiStore, SettingsSchema\n\u001b[1;32m     15\u001b[0m \u001b[39mfrom\u001b[39;00m \u001b[39mpandasgui\u001b[39;00m\u001b[39m.\u001b[39;00m\u001b[39mutility\u001b[39;00m \u001b[39mimport\u001b[39;00m as_dict, fix_ipython, get_figure_type, resize_widget\n",
      "File \u001b[0;32m~/mambaforge/envs/perso/lib/python3.11/site-packages/pandasgui/constants.py:15\u001b[0m\n\u001b[1;32m     12\u001b[0m PANDASGUI_ICON_PATH \u001b[39m=\u001b[39m pkg_resources\u001b[39m.\u001b[39mresource_filename(\u001b[39m__name__\u001b[39m, \u001b[39m\"\u001b[39m\u001b[39mresources/images/icon.png\u001b[39m\u001b[39m\"\u001b[39m)\n\u001b[1;32m     13\u001b[0m PANDASGUI_ICON_PATH_ICO \u001b[39m=\u001b[39m pkg_resources\u001b[39m.\u001b[39mresource_filename(\u001b[39m__name__\u001b[39m, \u001b[39m\"\u001b[39m\u001b[39mresources/images/icon.ico\u001b[39m\u001b[39m\"\u001b[39m)\n\u001b[0;32m---> 15\u001b[0m SHORTCUT_PATH \u001b[39m=\u001b[39m os\u001b[39m.\u001b[39;49mpath\u001b[39m.\u001b[39;49mjoin(os\u001b[39m.\u001b[39;49mgetenv(\u001b[39m'\u001b[39;49m\u001b[39mAPPDATA\u001b[39;49m\u001b[39m'\u001b[39;49m), \u001b[39m'\u001b[39;49m\u001b[39mMicrosoft/Windows/Start Menu/Programs/PandasGUI.lnk\u001b[39;49m\u001b[39m'\u001b[39;49m, )\n\u001b[1;32m     16\u001b[0m PY_INTERPRETTER_PATH \u001b[39m=\u001b[39m os\u001b[39m.\u001b[39mpath\u001b[39m.\u001b[39mjoin(os\u001b[39m.\u001b[39mpath\u001b[39m.\u001b[39mdirname(sys\u001b[39m.\u001b[39mexecutable), \u001b[39m'\u001b[39m\u001b[39mpython.exe\u001b[39m\u001b[39m'\u001b[39m)\n\u001b[1;32m     17\u001b[0m PYW_INTERPRETTER_PATH \u001b[39m=\u001b[39m os\u001b[39m.\u001b[39mpath\u001b[39m.\u001b[39mjoin(os\u001b[39m.\u001b[39mpath\u001b[39m.\u001b[39mdirname(sys\u001b[39m.\u001b[39mexecutable), \u001b[39m'\u001b[39m\u001b[39mpythonw.exe\u001b[39m\u001b[39m'\u001b[39m)\n",
      "File \u001b[0;32m<frozen posixpath>:76\u001b[0m, in \u001b[0;36mjoin\u001b[0;34m(a, *p)\u001b[0m\n",
      "\u001b[0;31mTypeError\u001b[0m: expected str, bytes or os.PathLike object, not NoneType"
     ]
    }
   ],
   "source": [
    "import pandasgui"
   ]
  },
  {
   "cell_type": "code",
   "execution_count": null,
   "metadata": {},
   "outputs": [],
   "source": []
  }
 ],
 "metadata": {
  "kernelspec": {
   "display_name": "perso",
   "language": "python",
   "name": "python3"
  },
  "language_info": {
   "codemirror_mode": {
    "name": "ipython",
    "version": 3
   },
   "file_extension": ".py",
   "mimetype": "text/x-python",
   "name": "python",
   "nbconvert_exporter": "python",
   "pygments_lexer": "ipython3",
   "version": "3.11.3"
  },
  "orig_nbformat": 4
 },
 "nbformat": 4,
 "nbformat_minor": 2
}
