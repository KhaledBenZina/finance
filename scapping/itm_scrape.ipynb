{
 "cells": [
  {
   "cell_type": "code",
   "execution_count": 3,
   "metadata": {},
   "outputs": [
    {
     "name": "stdout",
     "output_type": "stream",
     "text": [
      "Failed to retrieve the page. Status code: 403\n"
     ]
    }
   ],
   "source": [
    "import requests\n",
    "from bs4 import BeautifulSoup\n",
    "\n",
    "# URL of the web page you want to scrape\n",
    "url = 'https://www.intermarche.com/rayons/fruits-et-legumes/fruits-et-legumes-bio/7575'\n",
    "\n",
    "# Headers to mimic a browser request\n",
    "headers = {\n",
    "    'User-Agent': 'Mozilla/5.0 (Windows NT 10.0; Win64; x64) AppleWebKit/537.36 (KHTML, like Gecko) Chrome/91.0.4472.124 Safari/537.36'\n",
    "}\n",
    "\n",
    "# Send a GET request to the URL with headers\n",
    "response = requests.get(url, headers=headers)\n",
    "\n",
    "# Check if the request was successful\n",
    "if response.status_code == 200:\n",
    "    # Parse the HTML content of the page\n",
    "    soup = BeautifulSoup(response.content, 'html.parser')\n",
    "\n",
    "    # Find all product containers\n",
    "    products = soup.find_all('div', class_='product-card__content')\n",
    "\n",
    "    # Loop through each product and extract the details\n",
    "    for product in products:\n",
    "        # Extract product name\n",
    "        name = product.find('div', class_='product-card__title').get_text(strip=True)\n",
    "        \n",
    "        # Extract product price\n",
    "        price_container = product.find('span', class_='product-card__price')\n",
    "        if price_container:\n",
    "            price = price_container.get_text(strip=True)\n",
    "        else:\n",
    "            price = \"Price not found\"\n",
    "        \n",
    "        # Print or store the extracted data\n",
    "        print(f'Product: {name}, Price: {price}')\n",
    "else:\n",
    "    print(f'Failed to retrieve the page. Status code: {response.status_code}')\n",
    "\n",
    "\n"
   ]
  },
  {
   "cell_type": "code",
   "execution_count": null,
   "metadata": {},
   "outputs": [],
   "source": []
  }
 ],
 "metadata": {
  "kernelspec": {
   "display_name": "finance",
   "language": "python",
   "name": "python3"
  },
  "language_info": {
   "codemirror_mode": {
    "name": "ipython",
    "version": 3
   },
   "file_extension": ".py",
   "mimetype": "text/x-python",
   "name": "python",
   "nbconvert_exporter": "python",
   "pygments_lexer": "ipython3",
   "version": "3.11.9"
  }
 },
 "nbformat": 4,
 "nbformat_minor": 2
}
