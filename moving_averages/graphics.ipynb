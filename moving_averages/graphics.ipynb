{
 "cells": [
  {
   "cell_type": "markdown",
   "metadata": {},
   "source": [
    "- When the short term moving average crosses above the long term moving average, this may indicate a buy signal. This is known as a golden cross.\n",
    "- Contrary, when the short term moving average crosses below the long term moving average, it may be a good moment to sell. This is known as a dead cross."
   ]
  },
  {
   "cell_type": "code",
   "execution_count": null,
   "metadata": {},
   "outputs": [],
   "source": [
    "from main import StockAnalyzer"
   ]
  },
  {
   "cell_type": "code",
   "execution_count": null,
   "metadata": {},
   "outputs": [],
   "source": [
    "StockAnalyzer(stock=\"NFLX\").plot_moving_averages(start_date=\"2018-01-01\",period=\"1\")"
   ]
  },
  {
   "cell_type": "code",
   "execution_count": null,
   "metadata": {},
   "outputs": [],
   "source": [
    "StockAnalyzer(stock=\"AAPL\").plot_moving_averages(start_date=\"2023-07-01\",period=\"15min\")"
   ]
  },
  {
   "cell_type": "code",
   "execution_count": null,
   "metadata": {},
   "outputs": [],
   "source": [
    "StockAnalyzer(stock=\"NVDA\").plot_moving_averages(start_date=\"2018-01-01\",period=\"1day\")"
   ]
  },
  {
   "cell_type": "code",
   "execution_count": null,
   "metadata": {},
   "outputs": [],
   "source": [
    "StockAnalyzer(stock=\"TSLA\").plot_moving_averages(start_date=\"2023-07-01\",period=\"15min\")"
   ]
  },
  {
   "cell_type": "code",
   "execution_count": null,
   "metadata": {},
   "outputs": [],
   "source": [
    "StockAnalyzer(stock=\"AMD\").plot_moving_averages(start_date=\"2023-07-01\",period=\"15min\")"
   ]
  },
  {
   "cell_type": "code",
   "execution_count": null,
   "metadata": {},
   "outputs": [],
   "source": [
    "StockAnalyzer(stock=\"GM\").plot_moving_averages(start_date=\"2023-07-01\",period=\"15min\")"
   ]
  },
  {
   "cell_type": "code",
   "execution_count": null,
   "metadata": {},
   "outputs": [],
   "source": [
    "StockAnalyzer(stock=\"OXY\").plot_moving_averages(start_date=\"2023-07-01\",period=\"15min\")"
   ]
  },
  {
   "cell_type": "code",
   "execution_count": null,
   "metadata": {},
   "outputs": [],
   "source": [
    "StockAnalyzer(stock=\"SNOW\").plot_moving_averages(start_date=\"2018-01-01\",period=\"1day\")"
   ]
  },
  {
   "cell_type": "code",
   "execution_count": null,
   "metadata": {},
   "outputs": [],
   "source": [
    "StockAnalyzer(stock=\"GOOG\").plot_moving_averages(start_date=\"2018-01-01\",period=\"1day\")"
   ]
  },
  {
   "cell_type": "code",
   "execution_count": null,
   "metadata": {},
   "outputs": [],
   "source": [
    "StockAnalyzer(stock=\"AMD\").plot_moving_averages(start_date=\"2023-07-01\",period=\"15min\")"
   ]
  },
  {
   "cell_type": "code",
   "execution_count": null,
   "metadata": {},
   "outputs": [],
   "source": [
    "StockAnalyzer(stock=\"DIS\").plot_moving_averages(start_date=\"2018-01-01\",period=\"1day\")"
   ]
  },
  {
   "cell_type": "code",
   "execution_count": null,
   "metadata": {},
   "outputs": [],
   "source": [
    "StockAnalyzer(stock=\"NKE\").plot_moving_averages(start_date=\"2018-07-01\",period=\"15min\")"
   ]
  },
  {
   "cell_type": "code",
   "execution_count": null,
   "metadata": {},
   "outputs": [],
   "source": [
    "StockAnalyzer(stock=\"INTC\").plot_moving_averages(start_date=\"2018-01-01\",period=\"1day\")"
   ]
  },
  {
   "cell_type": "code",
   "execution_count": null,
   "metadata": {},
   "outputs": [],
   "source": [
    "StockAnalyzer(stock=\"AXON\").plot_moving_averages(start_date=\"2018-01-01\",period=\"1day\")"
   ]
  },
  {
   "cell_type": "code",
   "execution_count": null,
   "metadata": {},
   "outputs": [],
   "source": [
    "from main import StockAnalyzer\n",
    "StockAnalyzer(stock=\"DOW\").plot_moving_averages(start_date=\"2021-01-01\",sma_period=20,lma_period=250)"
   ]
  },
  {
   "cell_type": "code",
   "execution_count": null,
   "metadata": {},
   "outputs": [],
   "source": [
    "import pandas as pd\n",
    "from main import StockAnalyzer\n",
    "filepath=\"/tmp/results.csv\"\n",
    "df=pd.read_csv(filepath)\n",
    "for ticker in df[\"symbol\"].tolist():\n",
    "    StockAnalyzer(stock=ticker).plot_moving_averages(start_date=\"2018-01-01\",period=\"1day\")\n",
    "    "
   ]
  },
  {
   "cell_type": "code",
   "execution_count": null,
   "metadata": {},
   "outputs": [],
   "source": [
    "import pandas as pd\n",
    "from main import StockAnalyzer\n",
    "ls=[\"^VIX\",\"AAPL\",\"MSFT\",\"AMZN\",\"META\", \"NFLX\", \"NVDA\", \"TSLA\", \"AMD\",\"INTC\",\"SNOW\",\"PLTR\", \n",
    "               \"ORCL\",\"IVV\",\"GOOG\",\"CSCO\",\"MRO\", \"MRO\",\"QCOM\",\"ARM\", \"DAL\", \"NKE\", \"DIS\", \n",
    "               \"MCD\", \"GM\", \"HD\", \"HD\", \"ADBE\", \"EQT\", \"VOO\",\"XLE\", \"NSDQ100\"]\n",
    "\n",
    "for ticker in ls :\n",
    "    StockAnalyzer(stock=ticker).plot_moving_averages(start_date=\"2021-01-01\",sma_period=20,lma_period=250)"
   ]
  },
  {
   "cell_type": "code",
   "execution_count": null,
   "metadata": {},
   "outputs": [],
   "source": []
  }
 ],
 "metadata": {
  "kernelspec": {
   "display_name": "Python 3 (ipykernel)",
   "language": "python",
   "name": "python3"
  },
  "language_info": {
   "codemirror_mode": {
    "name": "ipython",
    "version": 3
   },
   "file_extension": ".py",
   "mimetype": "text/x-python",
   "name": "python",
   "nbconvert_exporter": "python",
   "pygments_lexer": "ipython3",
   "version": "3.11.3"
  }
 },
 "nbformat": 4,
 "nbformat_minor": 4
}
