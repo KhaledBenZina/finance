{
 "cells": [
  {
   "cell_type": "markdown",
   "metadata": {},
   "source": [
    "# SMA Crossover Strategy\n",
    "Author: TraderPy\n",
    "\n",
    "Youtube: https://www.youtube.com/channel/UC9xYCyyR_G3LIuJ_LlTiEVQ/featured\n",
    "\n",
    "Website: https://traderpy.com/\n",
    "\n",
    "## Disclaimer\n",
    "Trading the financial markets imposes a risk of financial loss. TraderPy is not responsible for any financial losses that viewers suffer. Content is educational only and does not serve as financial advice. Information or material is provided ‘as is’ without any warranty. \n",
    "\n",
    "Past trading results do not indicate future performance. Strategies that worked in the past may not reflect the same results in the future."
   ]
  },
  {
   "cell_type": "code",
   "execution_count": null,
   "metadata": {},
   "outputs": [],
   "source": [
    "import MetaTrader5 as mt5\n",
    "import pandas as pd\n",
    "import plotly.express as px\n",
    "import numpy as np"
   ]
  },
  {
   "cell_type": "code",
   "execution_count": null,
   "metadata": {},
   "outputs": [],
   "source": [
    "# connect to MetaTrader5 as mt5\n",
    "mt5.initialize()"
   ]
  },
  {
   "cell_type": "code",
   "execution_count": null,
   "metadata": {},
   "outputs": [],
   "source": [
    "# settings\n",
    "symbol = 'DE40'\n",
    "timeframe = mt5.TIMEFRAME_D1\n",
    "start_pos = 0\n",
    "num_bars = 1000\n",
    "\n",
    "fsma_period = 10\n",
    "ssma_period = 100"
   ]
  },
  {
   "cell_type": "code",
   "execution_count": null,
   "metadata": {},
   "outputs": [],
   "source": [
    "# Requesting historical data\n",
    "bars = mt5.copy_rates_from_pos(symbol, timeframe, start_pos, num_bars)\n",
    "df = pd.DataFrame(bars)[['time', 'open', 'high', 'low', 'close']]\n",
    "df['time'] = pd.to_datetime(df['time'], unit='s')\n",
    "\n",
    "df['fast_sma'] = df['close'].rolling(fsma_period).mean()\n",
    "df['slow_sma'] = df['close'].rolling(ssma_period).mean()\n",
    "\n",
    "# finding crossovers\n",
    "df['prev_fast_sma'] = df['fast_sma'].shift(1)\n",
    "\n",
    "df.dropna(inplace=True)\n",
    "df"
   ]
  },
  {
   "cell_type": "code",
   "execution_count": null,
   "metadata": {},
   "outputs": [],
   "source": [
    "def find_crossover(fast_sma, prev_fast_sma, slow_sma):\n",
    "    \n",
    "    if fast_sma > slow_sma and prev_fast_sma < slow_sma:\n",
    "        return 'bullish crossover'\n",
    "    elif fast_sma < slow_sma and prev_fast_sma > slow_sma:\n",
    "        return 'bearish crossover'\n",
    "    \n",
    "    return None\n",
    "\n",
    "\n",
    "df['crossover'] = np.vectorize(find_crossover)(df['fast_sma'], df['prev_fast_sma'], df['slow_sma'])\n",
    "\n",
    "signal = df[df['crossover'] == 'bullish crossover'].copy()\n",
    "signal"
   ]
  },
  {
   "cell_type": "code",
   "execution_count": null,
   "metadata": {},
   "outputs": [],
   "source": [
    "# visualize close price\n",
    "fig = px.line(df, x='time', y=['close', 'fast_sma', 'slow_sma'])\n",
    "\n",
    "for i, row in signal.iterrows():\n",
    "    fig.add_vline(x=row.time)\n",
    "    \n",
    "fig.show()"
   ]
  },
  {
   "cell_type": "code",
   "execution_count": null,
   "metadata": {},
   "outputs": [],
   "source": [
    "# creating backtest and position classes\n",
    "\n",
    "class Position:\n",
    "    def __init__(self, open_datetime, open_price, order_type, volume, sl, tp):\n",
    "        self.open_datetime = open_datetime\n",
    "        self.open_price = open_price\n",
    "        self.order_type = order_type\n",
    "        self.volume = volume\n",
    "        self.sl = sl\n",
    "        self.tp = tp\n",
    "        self.close_datetime = None\n",
    "        self.close_price = None\n",
    "        self.profit = None\n",
    "        self.status = 'open'\n",
    "        \n",
    "    def close_position(self, close_datetime, close_price):\n",
    "        self.close_datetime = close_datetime\n",
    "        self.close_price = close_price\n",
    "        self.profit = (self.close_price - self.open_price) * self.volume if self.order_type == 'buy' \\\n",
    "                                                                        else (self.open_price - self.close_price) * self.volume\n",
    "        self.status = 'closed'\n",
    "        \n",
    "    def _asdict(self):\n",
    "        return {\n",
    "            'open_datetime': self.open_datetime,\n",
    "            'open_price': self.open_price,\n",
    "            'order_type': self.order_type,\n",
    "            'volume': self.volume,\n",
    "            'sl': self.sl,\n",
    "            'tp': self.tp,\n",
    "            'close_datetime': self.close_datetime,\n",
    "            'close_price': self.close_price,\n",
    "            'profit': self.profit,\n",
    "            'status': self.status,\n",
    "        }\n",
    "        \n",
    "        \n",
    "class Strategy:\n",
    "    def __init__(self, df, starting_balance, volume):\n",
    "        self.starting_balance = starting_balance\n",
    "        self.volume = volume\n",
    "        self.positions = []\n",
    "        self.data = df\n",
    "        \n",
    "    def get_positions_df(self):\n",
    "        df = pd.DataFrame([position._asdict() for position in self.positions])\n",
    "        df['pnl'] = df['profit'].cumsum() + self.starting_balance\n",
    "        return df\n",
    "        \n",
    "    def add_position(self, position):\n",
    "        self.positions.append(position)\n",
    "        \n",
    "        return True\n",
    "        \n",
    "# logic\n",
    "    def run(self):\n",
    "        for i, data in self.data.iterrows():\n",
    "            \n",
    "            if data.crossover == 'bearish crossover':\n",
    "                for position in self.positions:\n",
    "                    if position.status == 'open':\n",
    "                        position.close_position(data.time, data.close)\n",
    "            \n",
    "            if data.crossover == 'bullish crossover':\n",
    "                self.add_position(Position(data.time, data.close, 'buy', self.volume, 0, 0))\n",
    "        \n",
    "        return self.get_positions_df()"
   ]
  },
  {
   "cell_type": "code",
   "execution_count": null,
   "metadata": {},
   "outputs": [],
   "source": [
    "sma_crossover_strategy = Strategy(df, 10000, 1)\n",
    "result = sma_crossover_strategy.run()\n",
    "\n",
    "result"
   ]
  },
  {
   "cell_type": "code",
   "execution_count": null,
   "metadata": {},
   "outputs": [],
   "source": [
    "px.line(result, x='close_datetime', y='pnl')"
   ]
  },
  {
   "cell_type": "code",
   "execution_count": null,
   "metadata": {},
   "outputs": [],
   "source": [
    "# visualize close price\n",
    "fig = px.line(df, x='time', y=['close', 'fast_sma', 'slow_sma'])\n",
    "\n",
    "for i, row in signal.iterrows():\n",
    "    fig.add_vline(x=row.time)\n",
    "    \n",
    "for i, row in result[result['status'] == 'closed'].iterrows():\n",
    "    \n",
    "    if row.profit > 0:\n",
    "        fig.add_shape(type=\"line\",\n",
    "            x0=row.open_datetime, y0=row.open_price, x1=row.close_datetime, y1=row.close_price,\n",
    "            line=dict(color=\"Green\",width=3)\n",
    "                     )\n",
    "                      \n",
    "    elif row.profit < 0:\n",
    "        fig.add_shape(type=\"line\",\n",
    "            x0=row.open_datetime, y0=row.open_price, x1=row.close_datetime, y1=row.close_price,\n",
    "            line=dict(color=\"Red\",width=3)\n",
    "                      )\n",
    "\n",
    "    \n",
    "fig.show()"
   ]
  },
  {
   "cell_type": "code",
   "execution_count": null,
   "metadata": {},
   "outputs": [],
   "source": []
  }
 ],
 "metadata": {
  "kernelspec": {
   "display_name": "Python 3",
   "language": "python",
   "name": "python3"
  },
  "language_info": {
   "codemirror_mode": {
    "name": "ipython",
    "version": 3
   },
   "file_extension": ".py",
   "mimetype": "text/x-python",
   "name": "python",
   "nbconvert_exporter": "python",
   "pygments_lexer": "ipython3",
   "version": "3.8.6"
  }
 },
 "nbformat": 4,
 "nbformat_minor": 4
}
