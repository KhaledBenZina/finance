{
 "cells": [
  {
   "cell_type": "code",
   "execution_count": 4,
   "metadata": {},
   "outputs": [
    {
     "name": "stderr",
     "output_type": "stream",
     "text": [
      "[*********************100%%**********************]  1 of 1 completed\n"
     ]
    },
    {
     "name": "stdout",
     "output_type": "stream",
     "text": [
      "['MMM', 'AOS', 'ABT', 'ABBV', 'ACN', 'ADBE', 'AMD', 'AES', 'AFL', 'A', 'APD', 'ABNB', 'AKAM', 'ALB', 'ARE', 'ALGN', 'ALLE', 'LNT', 'ALL', 'GOOGL', 'GOOG', 'MO', 'AMZN', 'AMCR', 'AEE', 'AAL', 'AEP', 'AXP', 'AIG', 'AMT', 'AWK', 'AMP', 'AME', 'AMGN', 'APH', 'ADI', 'ANSS', 'AON', 'APA', 'AAPL', 'AMAT', 'APTV', 'ACGL', 'ADM', 'ANET', 'AJG', 'AIZ', 'T', 'ATO', 'ADSK', 'ADP', 'AZO', 'AVB', 'AVY', 'AXON', 'BKR', 'BALL', 'BAC', 'BK', 'BBWI', 'BAX', 'BDX', 'BRK.B', 'BBY', 'BIO', 'TECH', 'BIIB', 'BLK', 'BX', 'BA', 'BKNG', 'BWA', 'BXP', 'BSX', 'BMY', 'AVGO', 'BR', 'BRO', 'BF.B', 'BLDR', 'BG', 'CDNS', 'CZR', 'CPT', 'CPB', 'COF', 'CAH', 'KMX', 'CCL', 'CARR', 'CTLT', 'CAT', 'CBOE', 'CBRE', 'CDW', 'CE', 'COR', 'CNC', 'CNP', 'CF', 'CHRW', 'CRL', 'SCHW', 'CHTR', 'CVX', 'CMG', 'CB', 'CHD', 'CI', 'CINF', 'CTAS', 'CSCO', 'C', 'CFG', 'CLX', 'CME', 'CMS', 'KO', 'CTSH', 'CL', 'CMCSA', 'CMA', 'CAG', 'COP', 'ED', 'STZ', 'CEG', 'COO', 'CPRT', 'GLW', 'CPAY', 'CTVA', 'CSGP', 'COST', 'CTRA', 'CCI', 'CSX', 'CMI', 'CVS', 'DHR', 'DRI', 'DVA', 'DAY', 'DECK', 'DE', 'DAL', 'DVN', 'DXCM', 'FANG', 'DLR', 'DFS', 'DG', 'DLTR', 'D', 'DPZ', 'DOV', 'DOW', 'DHI', 'DTE', 'DUK', 'DD', 'EMN', 'ETN', 'EBAY', 'ECL', 'EIX', 'EW', 'EA', 'ELV', 'LLY', 'EMR', 'ENPH', 'ETR', 'EOG', 'EPAM', 'EQT', 'EFX', 'EQIX', 'EQR', 'ESS', 'EL', 'ETSY', 'EG', 'EVRG', 'ES', 'EXC', 'EXPE', 'EXPD', 'EXR', 'XOM', 'FFIV', 'FDS', 'FICO', 'FAST', 'FRT', 'FDX', 'FIS', 'FITB', 'FSLR', 'FE', 'FI', 'FMC', 'F', 'FTNT', 'FTV', 'FOXA', 'FOX', 'BEN', 'FCX', 'GRMN', 'IT', 'GE', 'GEHC', 'GEV', 'GEN', 'GNRC', 'GD', 'GIS', 'GM', 'GPC', 'GILD', 'GPN', 'GL', 'GS', 'HAL', 'HIG', 'HAS', 'HCA', 'DOC', 'HSIC', 'HSY', 'HES', 'HPE', 'HLT', 'HOLX', 'HD', 'HON', 'HRL', 'HST', 'HWM', 'HPQ', 'HUBB', 'HUM', 'HBAN', 'HII', 'IBM', 'IEX', 'IDXX', 'ITW', 'ILMN', 'INCY', 'IR', 'PODD', 'INTC', 'ICE', 'IFF', 'IP', 'IPG', 'INTU', 'ISRG', 'IVZ', 'INVH', 'IQV', 'IRM', 'JBHT', 'JBL', 'JKHY', 'J', 'JNJ', 'JCI', 'JPM', 'JNPR', 'K', 'KVUE', 'KDP', 'KEY', 'KEYS', 'KMB', 'KIM', 'KMI', 'KLAC', 'KHC', 'KR', 'LHX', 'LH', 'LRCX', 'LW', 'LVS', 'LDOS', 'LEN', 'LIN', 'LYV', 'LKQ', 'LMT', 'L', 'LOW', 'LULU', 'LYB', 'MTB', 'MRO', 'MPC', 'MKTX', 'MAR', 'MMC', 'MLM', 'MAS', 'MA', 'MTCH', 'MKC', 'MCD', 'MCK', 'MDT', 'MRK', 'META', 'MET', 'MTD', 'MGM', 'MCHP', 'MU', 'MSFT', 'MAA', 'MRNA', 'MHK', 'MOH', 'TAP', 'MDLZ', 'MPWR', 'MNST', 'MCO', 'MS', 'MOS', 'MSI', 'MSCI', 'NDAQ', 'NTAP', 'NFLX', 'NEM', 'NWSA', 'NWS', 'NEE', 'NKE', 'NI', 'NDSN', 'NSC', 'NTRS', 'NOC', 'NCLH', 'NRG', 'NUE', 'NVDA', 'NVR', 'NXPI', 'ORLY', 'OXY', 'ODFL', 'OMC', 'ON', 'OKE', 'ORCL', 'OTIS', 'PCAR', 'PKG', 'PANW', 'PARA', 'PH', 'PAYX', 'PAYC', 'PYPL', 'PNR', 'PEP', 'PFE', 'PCG', 'PM', 'PSX', 'PNW', 'PNC', 'POOL', 'PPG', 'PPL', 'PFG', 'PG', 'PGR', 'PLD', 'PRU', 'PEG', 'PTC', 'PSA', 'PHM', 'QRVO', 'PWR', 'QCOM', 'DGX', 'RL', 'RJF', 'RTX', 'O', 'REG', 'REGN', 'RF', 'RSG', 'RMD', 'RVTY', 'RHI', 'ROK', 'ROL', 'ROP', 'ROST', 'RCL', 'SPGI', 'CRM', 'SBAC', 'SLB', 'STX', 'SRE', 'NOW', 'SHW', 'SPG', 'SWKS', 'SJM', 'SNA', 'SOLV', 'SO', 'LUV', 'SWK', 'SBUX', 'STT', 'STLD', 'STE', 'SYK', 'SMCI', 'SYF', 'SNPS', 'SYY', 'TMUS', 'TROW', 'TTWO', 'TPR', 'TRGP', 'TGT', 'TEL', 'TDY', 'TFX', 'TER', 'TSLA', 'TXN', 'TXT', 'TMO', 'TJX', 'TSCO', 'TT', 'TDG', 'TRV', 'TRMB', 'TFC', 'TYL', 'TSN', 'USB', 'UBER', 'UDR', 'ULTA', 'UNP', 'UAL', 'UPS', 'URI', 'UNH', 'UHS', 'VLO', 'VTR', 'VLTO', 'VRSN', 'VRSK', 'VZ', 'VRTX', 'VTRS', 'VICI', 'V', 'VST', 'VMC', 'WRB', 'GWW', 'WAB', 'WBA', 'WMT', 'DIS', 'WBD', 'WM', 'WAT', 'WEC', 'WFC', 'WELL', 'WST', 'WDC', 'WRK', 'WY', 'WMB', 'WTW', 'WYNN', 'XEL', 'XYL', 'YUM', 'ZBRA', 'ZBH', 'ZTS']\n",
      "Best stocks for day trading:\n",
      "yfinance.Ticker object <SMCI>\n",
      "yfinance.Ticker object <TTWO>\n"
     ]
    }
   ],
   "source": [
    "import yfinance as yf\n",
    "import pandas as pd\n",
    "def filter_stocks(symbols, min_volume, min_liquidity, min_volatility):\n",
    "    filtered_stocks = []\n",
    "    stock_df=pd.DataFrame(columns=[\"stock\", \"price\", \"change\", \"volume\", \"liquidity\", \"volatility\"])\n",
    "    for symbol in symbols:\n",
    "        stock=yf.Ticker(symbol)\n",
    "        price=stock.info.get('regularMarketPrice', 0)\n",
    "        change = stock.info.get('regularMarketChange', 0)\n",
    "        volume = stock.info.get('averageVolume10days', 0)\n",
    "        liquidity = stock.info.get('averageDailyVolume10Day', 0)\n",
    "        volatility = abs((stock.info.get('regularMarketDayLow', 0) - stock.info.get('regularMarketDayHigh', 0)) / stock.info.get('regularMarketDayLow', 1))\n",
    "        \n",
    "        if volume >= min_volume and liquidity >= min_liquidity and volatility >= min_volatility and price<300:\n",
    "            filtered_stocks.append(stock)\n",
    "            stock_df.loc[len(stock_df)]=[symbol,price,change, volume, liquidity, volatility]\n",
    "    stock_df.to_csv(\"/home/khaled/outputs/stocks.csv\",index=False)\n",
    "    return filtered_stocks\n",
    "\n",
    "def get_best_day_trading_stocks():\n",
    "    btc_data = yf.download('BTC-USD')\n",
    "    btc_symbols = btc_data.index.tolist()\n",
    "    btc_symbols=pd.read_html(\n",
    "    'https://en.wikipedia.org/wiki/List_of_S%26P_500_companies')[0].Symbol.tolist()\n",
    "    print(btc_symbols)\n",
    "    # df=pd.read_csv(filepath_or_buffer=\"/home/khaled/Downloads/bats_symbols.csv\",header=0)\n",
    "    # btc_symbols=df.Name.tolist()\n",
    "    all_tickers = yf.Tickers(' '.join(btc_symbols))\n",
    "    all_stocks = all_tickers.tickers\n",
    "\n",
    "    min_volume = 1000000  # Minimum volume threshold\n",
    "    min_liquidity = 1000000  # Minimum liquidity threshold\n",
    "    min_volatility = 0.05  # Minimum volatility threshold\n",
    "\n",
    "    filtered_stocks = filter_stocks(btc_symbols, min_volume, min_liquidity, min_volatility)\n",
    "    return filtered_stocks\n",
    "\n",
    "if __name__ == \"__main__\":\n",
    "    best_stocks = get_best_day_trading_stocks()\n",
    "    print(\"Best stocks for day trading:\")\n",
    "    for stock in best_stocks:\n",
    "        print(stock)\n"
   ]
  },
  {
   "cell_type": "code",
   "execution_count": 28,
   "metadata": {},
   "outputs": [
    {
     "name": "stdout",
     "output_type": "stream",
     "text": [
      "volume 1202980\n"
     ]
    },
    {
     "data": {
      "text/plain": [
       "-0.0881453274236844"
      ]
     },
     "execution_count": 28,
     "metadata": {},
     "output_type": "execute_result"
    }
   ],
   "source": [
    "stock = yf.Ticker('AAPL')\n",
    "vol=stock.info.get('averageDailyVolume10Day', 0)\n",
    "print(\"volume \"+str(vol ))\n",
    "volatility = (stock.info.get('regularMarketDayLow', 0) - stock.info.get('regularMarketDayHigh', 0)) / stock.info.get('regularMarketDayLow', 1)\n",
    "volatility"
   ]
  },
  {
   "cell_type": "code",
   "execution_count": 1,
   "metadata": {},
   "outputs": [
    {
     "data": {
      "text/html": [
       "<div>\n",
       "<style scoped>\n",
       "    .dataframe tbody tr th:only-of-type {\n",
       "        vertical-align: middle;\n",
       "    }\n",
       "\n",
       "    .dataframe tbody tr th {\n",
       "        vertical-align: top;\n",
       "    }\n",
       "\n",
       "    .dataframe thead th {\n",
       "        text-align: right;\n",
       "    }\n",
       "</style>\n",
       "<table border=\"1\" class=\"dataframe\">\n",
       "  <thead>\n",
       "    <tr style=\"text-align: right;\">\n",
       "      <th></th>\n",
       "      <th>Dividends</th>\n",
       "      <th>Stock Splits</th>\n",
       "    </tr>\n",
       "    <tr>\n",
       "      <th>Date</th>\n",
       "      <th></th>\n",
       "      <th></th>\n",
       "    </tr>\n",
       "  </thead>\n",
       "  <tbody>\n",
       "    <tr>\n",
       "      <th>2014-03-27 00:00:00-04:00</th>\n",
       "      <td>0.0</td>\n",
       "      <td>2.002000</td>\n",
       "    </tr>\n",
       "    <tr>\n",
       "      <th>2015-04-27 00:00:00-04:00</th>\n",
       "      <td>0.0</td>\n",
       "      <td>1.002746</td>\n",
       "    </tr>\n",
       "    <tr>\n",
       "      <th>2022-07-18 00:00:00-04:00</th>\n",
       "      <td>0.0</td>\n",
       "      <td>20.000000</td>\n",
       "    </tr>\n",
       "  </tbody>\n",
       "</table>\n",
       "</div>"
      ],
      "text/plain": [
       "                           Dividends  Stock Splits\n",
       "Date                                              \n",
       "2014-03-27 00:00:00-04:00        0.0      2.002000\n",
       "2015-04-27 00:00:00-04:00        0.0      1.002746\n",
       "2022-07-18 00:00:00-04:00        0.0     20.000000"
      ]
     },
     "execution_count": 1,
     "metadata": {},
     "output_type": "execute_result"
    }
   ],
   "source": [
    "import yfinance as yf\n",
    "\n",
    "tickers = yf.Tickers('msft aapl goog')\n",
    "\n",
    "# access each ticker using (example)\n",
    "tickers.tickers['MSFT'].info\n",
    "tickers.tickers['AAPL'].history(period=\"1mo\")\n",
    "tickers.tickers['GOOG'].actions"
   ]
  },
  {
   "cell_type": "code",
   "execution_count": 17,
   "metadata": {},
   "outputs": [
    {
     "name": "stdout",
     "output_type": "stream",
     "text": [
      "[*********************100%***********************]  1 of 1 completed\n"
     ]
    }
   ],
   "source": [
    "import yfinance as yf\n",
    "from requests.exceptions import HTTPError\n",
    "import time\n",
    "\n",
    "def fetch_data_with_retry(symbol):\n",
    "    retries = 3\n",
    "    for attempt in range(retries):\n",
    "        try:\n",
    "            data = yf.download(symbol)\n",
    "            return data\n",
    "        except HTTPError as e:\n",
    "            print(f\"HTTP error occurred: {e}\")\n",
    "            if attempt < retries - 1:\n",
    "                print(\"Retrying after 5 seconds...\")\n",
    "                time.sleep(5)\n",
    "            else:\n",
    "                raise\n",
    "\n",
    "# Use the fetch_data_with_retry function to fetch data for BTC-USD\n",
    "btc_data = fetch_data_with_retry('BTC-USD')\n",
    "\n",
    "# Continue with the rest of your script...\n"
   ]
  },
  {
   "cell_type": "code",
   "execution_count": null,
   "metadata": {},
   "outputs": [],
   "source": [
    "if info.get('regularMarketPrice', 0) < 200:\n",
    "        change = info.get('regularMarketChange', 0)\n",
    "        stocks_data.append((symbol, info['regularMarketPrice'], change))"
   ]
  },
  {
   "cell_type": "code",
   "execution_count": 3,
   "metadata": {},
   "outputs": [
    {
     "name": "stderr",
     "output_type": "stream",
     "text": [
      "[*********************100%%**********************]  3 of 3 completed\n",
      "/tmp/ipykernel_10518/2027233707.py:27: UserWarning: Boolean Series key will be reindexed to match DataFrame index.\n",
      "  filtered_data = data[data.iloc[-1] < price_threshold]\n"
     ]
    },
    {
     "ename": "IndexingError",
     "evalue": "Unalignable boolean Series provided as indexer (index of the boolean Series and of the indexed object do not match).",
     "output_type": "error",
     "traceback": [
      "\u001b[0;31m---------------------------------------------------------------------------\u001b[0m",
      "\u001b[0;31mIndexingError\u001b[0m                             Traceback (most recent call last)",
      "Cell \u001b[0;32mIn[3], line 86\u001b[0m\n\u001b[1;32m     83\u001b[0m   \u001b[38;5;28;01mreturn\u001b[39;00m sentiment_score\n\u001b[1;32m     85\u001b[0m \u001b[38;5;66;03m# Example usage\u001b[39;00m\n\u001b[0;32m---> 86\u001b[0m big_movers \u001b[38;5;241m=\u001b[39m \u001b[43mget_big_movers\u001b[49m\u001b[43m(\u001b[49m\u001b[43m)\u001b[49m\n\u001b[1;32m     87\u001b[0m \u001b[38;5;28mprint\u001b[39m(big_movers)\n",
      "Cell \u001b[0;32mIn[3], line 27\u001b[0m, in \u001b[0;36mget_big_movers\u001b[0;34m(price_threshold)\u001b[0m\n\u001b[1;32m     24\u001b[0m data \u001b[38;5;241m=\u001b[39m yf\u001b[38;5;241m.\u001b[39mdownload(tickers, period\u001b[38;5;241m=\u001b[39m\u001b[38;5;124m\"\u001b[39m\u001b[38;5;124m1d\u001b[39m\u001b[38;5;124m\"\u001b[39m)\n\u001b[1;32m     26\u001b[0m \u001b[38;5;66;03m# Filter for stocks below price threshold\u001b[39;00m\n\u001b[0;32m---> 27\u001b[0m filtered_data \u001b[38;5;241m=\u001b[39m \u001b[43mdata\u001b[49m\u001b[43m[\u001b[49m\u001b[43mdata\u001b[49m\u001b[38;5;241;43m.\u001b[39;49m\u001b[43miloc\u001b[49m\u001b[43m[\u001b[49m\u001b[38;5;241;43m-\u001b[39;49m\u001b[38;5;241;43m1\u001b[39;49m\u001b[43m]\u001b[49m\u001b[43m \u001b[49m\u001b[38;5;241;43m<\u001b[39;49m\u001b[43m \u001b[49m\u001b[43mprice_threshold\u001b[49m\u001b[43m]\u001b[49m\n\u001b[1;32m     29\u001b[0m \u001b[38;5;66;03m# Get additional data using yfinance or alternative APIs\u001b[39;00m\n\u001b[1;32m     30\u001b[0m info \u001b[38;5;241m=\u001b[39m yf\u001b[38;5;241m.\u001b[39mdownload(filtered_data\u001b[38;5;241m.\u001b[39mindex, period\u001b[38;5;241m=\u001b[39m\u001b[38;5;124m\"\u001b[39m\u001b[38;5;124m1d\u001b[39m\u001b[38;5;124m\"\u001b[39m, info\u001b[38;5;241m=\u001b[39m\u001b[38;5;28;01mTrue\u001b[39;00m)\n",
      "File \u001b[0;32m~/mambaforge/envs/perso/lib/python3.11/site-packages/pandas/core/frame.py:3752\u001b[0m, in \u001b[0;36mDataFrame.__getitem__\u001b[0;34m(self, key)\u001b[0m\n\u001b[1;32m   3750\u001b[0m \u001b[38;5;66;03m# Do we have a (boolean) 1d indexer?\u001b[39;00m\n\u001b[1;32m   3751\u001b[0m \u001b[38;5;28;01mif\u001b[39;00m com\u001b[38;5;241m.\u001b[39mis_bool_indexer(key):\n\u001b[0;32m-> 3752\u001b[0m     \u001b[38;5;28;01mreturn\u001b[39;00m \u001b[38;5;28;43mself\u001b[39;49m\u001b[38;5;241;43m.\u001b[39;49m\u001b[43m_getitem_bool_array\u001b[49m\u001b[43m(\u001b[49m\u001b[43mkey\u001b[49m\u001b[43m)\u001b[49m\n\u001b[1;32m   3754\u001b[0m \u001b[38;5;66;03m# We are left with two options: a single key, and a collection of keys,\u001b[39;00m\n\u001b[1;32m   3755\u001b[0m \u001b[38;5;66;03m# We interpret tuples as collections only for non-MultiIndex\u001b[39;00m\n\u001b[1;32m   3756\u001b[0m is_single_key \u001b[38;5;241m=\u001b[39m \u001b[38;5;28misinstance\u001b[39m(key, \u001b[38;5;28mtuple\u001b[39m) \u001b[38;5;129;01mor\u001b[39;00m \u001b[38;5;129;01mnot\u001b[39;00m is_list_like(key)\n",
      "File \u001b[0;32m~/mambaforge/envs/perso/lib/python3.11/site-packages/pandas/core/frame.py:3805\u001b[0m, in \u001b[0;36mDataFrame._getitem_bool_array\u001b[0;34m(self, key)\u001b[0m\n\u001b[1;32m   3799\u001b[0m     \u001b[38;5;28;01mraise\u001b[39;00m \u001b[38;5;167;01mValueError\u001b[39;00m(\n\u001b[1;32m   3800\u001b[0m         \u001b[38;5;124mf\u001b[39m\u001b[38;5;124m\"\u001b[39m\u001b[38;5;124mItem wrong length \u001b[39m\u001b[38;5;132;01m{\u001b[39;00m\u001b[38;5;28mlen\u001b[39m(key)\u001b[38;5;132;01m}\u001b[39;00m\u001b[38;5;124m instead of \u001b[39m\u001b[38;5;132;01m{\u001b[39;00m\u001b[38;5;28mlen\u001b[39m(\u001b[38;5;28mself\u001b[39m\u001b[38;5;241m.\u001b[39mindex)\u001b[38;5;132;01m}\u001b[39;00m\u001b[38;5;124m.\u001b[39m\u001b[38;5;124m\"\u001b[39m\n\u001b[1;32m   3801\u001b[0m     )\n\u001b[1;32m   3803\u001b[0m \u001b[38;5;66;03m# check_bool_indexer will throw exception if Series key cannot\u001b[39;00m\n\u001b[1;32m   3804\u001b[0m \u001b[38;5;66;03m# be reindexed to match DataFrame rows\u001b[39;00m\n\u001b[0;32m-> 3805\u001b[0m key \u001b[38;5;241m=\u001b[39m \u001b[43mcheck_bool_indexer\u001b[49m\u001b[43m(\u001b[49m\u001b[38;5;28;43mself\u001b[39;49m\u001b[38;5;241;43m.\u001b[39;49m\u001b[43mindex\u001b[49m\u001b[43m,\u001b[49m\u001b[43m \u001b[49m\u001b[43mkey\u001b[49m\u001b[43m)\u001b[49m\n\u001b[1;32m   3807\u001b[0m \u001b[38;5;28;01mif\u001b[39;00m key\u001b[38;5;241m.\u001b[39mall():\n\u001b[1;32m   3808\u001b[0m     \u001b[38;5;28;01mreturn\u001b[39;00m \u001b[38;5;28mself\u001b[39m\u001b[38;5;241m.\u001b[39mcopy(deep\u001b[38;5;241m=\u001b[39m\u001b[38;5;28;01mNone\u001b[39;00m)\n",
      "File \u001b[0;32m~/mambaforge/envs/perso/lib/python3.11/site-packages/pandas/core/indexing.py:2499\u001b[0m, in \u001b[0;36mcheck_bool_indexer\u001b[0;34m(index, key)\u001b[0m\n\u001b[1;32m   2497\u001b[0m indexer \u001b[38;5;241m=\u001b[39m result\u001b[38;5;241m.\u001b[39mindex\u001b[38;5;241m.\u001b[39mget_indexer_for(index)\n\u001b[1;32m   2498\u001b[0m \u001b[38;5;28;01mif\u001b[39;00m \u001b[38;5;241m-\u001b[39m\u001b[38;5;241m1\u001b[39m \u001b[38;5;129;01min\u001b[39;00m indexer:\n\u001b[0;32m-> 2499\u001b[0m     \u001b[38;5;28;01mraise\u001b[39;00m IndexingError(\n\u001b[1;32m   2500\u001b[0m         \u001b[38;5;124m\"\u001b[39m\u001b[38;5;124mUnalignable boolean Series provided as \u001b[39m\u001b[38;5;124m\"\u001b[39m\n\u001b[1;32m   2501\u001b[0m         \u001b[38;5;124m\"\u001b[39m\u001b[38;5;124mindexer (index of the boolean Series and of \u001b[39m\u001b[38;5;124m\"\u001b[39m\n\u001b[1;32m   2502\u001b[0m         \u001b[38;5;124m\"\u001b[39m\u001b[38;5;124mthe indexed object do not match).\u001b[39m\u001b[38;5;124m\"\u001b[39m\n\u001b[1;32m   2503\u001b[0m     )\n\u001b[1;32m   2505\u001b[0m result \u001b[38;5;241m=\u001b[39m result\u001b[38;5;241m.\u001b[39mtake(indexer)\n\u001b[1;32m   2507\u001b[0m \u001b[38;5;66;03m# fall through for boolean\u001b[39;00m\n",
      "\u001b[0;31mIndexingError\u001b[0m: Unalignable boolean Series provided as indexer (index of the boolean Series and of the indexed object do not match)."
     ]
    }
   ],
   "source": [
    "import yfinance as yf\n",
    "from yfinance import Ticker  # for news sentiment analysis\n",
    "\n",
    "def get_big_movers(price_threshold=100):\n",
    "  \"\"\"\n",
    "  Gets big movers in US market with volume, volatility, market cap, liquidity, and news sentiment.\n",
    "\n",
    "  Args:\n",
    "      price_threshold (float): Maximum price for stocks to consider.\n",
    "\n",
    "  Returns:\n",
    "      pandas.DataFrame: DataFrame containing big movers with columns:\n",
    "          - Symbol\n",
    "          - Price\n",
    "          - Market Cap\n",
    "          - Volume Change (or Percentage Change)\n",
    "          - Volatility\n",
    "          - Liquidity (customised metric)\n",
    "          - News Sentiment Score (customised metric)\n",
    "          - Score (combined metric)\n",
    "  \"\"\"\n",
    "  # Download data for a set of US stocks (replace with desired symbols)\n",
    "  tickers = [\"AAPL\", \"TSLA\", \"GOOG\"]\n",
    "  data = yf.download(tickers, period=\"1d\")\n",
    "\n",
    "  # Filter for stocks below price threshold\n",
    "  filtered_data = data[data.iloc[-1] < price_threshold]\n",
    "\n",
    "  # Get additional data using yfinance or alternative APIs\n",
    "  info = yf.download(filtered_data.index, period=\"1d\", info=True)\n",
    "  market_cap = info[\"marketCap\"]\n",
    "\n",
    "  # Calculate volume/percentage change (replace with your calculation)\n",
    "  # ... (example using percentage change)\n",
    "  pct_change = filtered_data.pct_change() * 100\n",
    "\n",
    "  # Calculate volatility (replace with your calculation)\n",
    "  # ... (example using standard deviation of past day's prices)\n",
    "  volatility = filtered_data.std()\n",
    "\n",
    "  # Define a custom liquidity metric (replace with your preferred measure)\n",
    "  # Example: Average daily trading volume (can be retrieved from info[\"volume\"])\n",
    "  liquidity = info[\"volume\"].mean(axis=1)\n",
    "\n",
    "  # Get news sentiment score (replace with your sentiment analysis method)\n",
    "  # Example using Yahoo Finance news sentiment analysis (experimental)\n",
    "  sentiment_scores = {}\n",
    "  for symbol in filtered_data.index:\n",
    "      try:\n",
    "          ticker = Ticker(symbol)\n",
    "          news = ticker.news\n",
    "          # Implement sentiment analysis logic on news text (e.g., using libraries like TextBlob)\n",
    "          sentiment_score = analyze_news_sentiment(news)  # Replace with your analysis function\n",
    "          sentiment_scores[symbol] = sentiment_score\n",
    "      except:\n",
    "          sentiment_scores[symbol] = 0  # Handle errors or missing data\n",
    "\n",
    "  # Combine metrics into a score (replace with your weighting logic)\n",
    "  score = (pct_change + volatility + market_cap * 0.1 + liquidity * 0.2 + sentiment_scores.get(symbol, 0)) / 5\n",
    "\n",
    "  # Create DataFrame with desired columns\n",
    "  df = pd.DataFrame({\n",
    "      \"Symbol\": filtered_data.index,\n",
    "      \"Price\": filtered_data.iloc[-1],\n",
    "      \"Market Cap\": market_cap,\n",
    "      \"Volume Change\": pct_change,\n",
    "      \"Volatility\": volatility,\n",
    "      \"Liquidity\": liquidity,\n",
    "      \"News Sentiment Score\": sentiment_scores,\n",
    "      \"Score\": score\n",
    "  })\n",
    "\n",
    "  # Sort by score (descending)\n",
    "  df = df.sort_values(by=\"Score\", ascending=False)\n",
    "\n",
    "  return df\n",
    "\n",
    "# Replace with your function to analyze news sentiment based on news text\n",
    "def analyze_news_sentiment(news):\n",
    "  # Implement sentiment analysis logic using libraries like TextBlob\n",
    "  # This is a placeholder, replace with your actual implementation\n",
    "  sentiment_score = 0  # Adjust the score based on positive/negative sentiment\n",
    "  return sentiment_score\n",
    "\n",
    "# Example usage\n",
    "big_movers = get_big_movers()\n",
    "print(big_movers)\n"
   ]
  },
  {
   "cell_type": "code",
   "execution_count": null,
   "metadata": {},
   "outputs": [],
   "source": []
  }
 ],
 "metadata": {
  "kernelspec": {
   "display_name": "perso",
   "language": "python",
   "name": "python3"
  },
  "language_info": {
   "codemirror_mode": {
    "name": "ipython",
    "version": 3
   },
   "file_extension": ".py",
   "mimetype": "text/x-python",
   "name": "python",
   "nbconvert_exporter": "python",
   "pygments_lexer": "ipython3",
   "version": "3.11.3"
  }
 },
 "nbformat": 4,
 "nbformat_minor": 2
}
