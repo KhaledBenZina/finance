{
 "cells": [
  {
   "cell_type": "code",
   "execution_count": 4,
   "metadata": {},
   "outputs": [
    {
     "name": "stdout",
     "output_type": "stream",
     "text": [
      "Trend for the last 3 bars on a 2-minute chart: 0\n"
     ]
    }
   ],
   "source": [
    "import yfinance as yf\n",
    "import pandas as pd\n",
    "\n",
    "def get_stock_trend(stock_ticker, n, x):\n",
    "    # Get historical data for the stock with the specified minute interval\n",
    "    data = yf.download(tickers=stock_ticker, period=\"1d\", interval=f\"{x}m\",progress=False)\n",
    "    \n",
    "    if data.empty:\n",
    "        return \"No data available for this stock or period.\"\n",
    "\n",
    "    # Get the last 'n' rows of the dataset\n",
    "    data = data.tail(n)\n",
    "\n",
    "    # Ensure there is enough data to process\n",
    "    if len(data) < n:\n",
    "        return \"Not enough data available.\"\n",
    "\n",
    "    highs = data['High'].values\n",
    "    lows = data['Low'].values\n",
    "\n",
    "    # Check if we have higher highs and higher lows\n",
    "    higher_highs = all(highs[i] > highs[i-1] for i in range(1, len(highs)))\n",
    "    higher_lows = all(lows[i] > lows[i-1] for i in range(1, len(lows)))\n",
    "\n",
    "    # Check if we have lower highs and lower lows\n",
    "    lower_highs = all(highs[i] < highs[i-1] for i in range(1, len(highs)))\n",
    "    lower_lows = all(lows[i] < lows[i-1] for i in range(1, len(lows)))\n",
    "\n",
    "    # Return 1 if we have higher highs and higher lows\n",
    "    if higher_highs and higher_lows:\n",
    "        return 1\n",
    "    # Return -1 if we have lower highs and lower lows\n",
    "    elif lower_highs and lower_lows:\n",
    "        return -1\n",
    "    # Otherwise return 0\n",
    "    else:\n",
    "        return 0\n",
    "\n",
    "# Example usage:\n",
    "stock_ticker = \"AAPL\"  # Replace with your stock ticker\n",
    "n = 3  # Last 5 bars\n",
    "x = 2  # 15-minute chart\n",
    "\n",
    "trend = get_stock_trend(stock_ticker, n, x)\n",
    "print(f\"Trend for the last {n} bars on a {x}-minute chart: {trend}\")\n"
   ]
  },
  {
   "cell_type": "code",
   "execution_count": 7,
   "metadata": {},
   "outputs": [
    {
     "name": "stdout",
     "output_type": "stream",
     "text": [
      "The ticker META is trending lower.\n",
      "The ticker KO is trending lower.\n",
      "The ticker COST is trending lower.\n",
      "The ticker NKE is trending higher.\n"
     ]
    }
   ],
   "source": [
    "# List of major US tickers\n",
    "us_tickers = [\n",
    "    'AAPL', 'MSFT', 'GOOGL', 'AMZN', 'TSLA', 'NVDA', 'META', 'BRK-B', 'JNJ', 'V',\n",
    "    'PG', 'UNH', 'HD', 'MA', 'XOM', 'BAC', 'PFE', 'KO', 'PEP', 'COST', 'CSCO', \n",
    "    'MRK', 'DIS', 'ADBE', 'NFLX', 'INTC', 'VZ', 'CMCSA', 'NKE', 'WMT', 'CRM'\n",
    "]  # You can add more tickers\n",
    "\n",
    "# Define the number of bars and interval\n",
    "n = 3  # Last 5 bars\n",
    "x = 2  # 15-minute chart\n",
    "\n",
    "# Loop over the tickers and print the trend\n",
    "for ticker in us_tickers:\n",
    "    trend = get_stock_trend(ticker, n, x)\n",
    "    \n",
    "    if trend == 1:\n",
    "        print(f\"The ticker {ticker} is trending higher.\")\n",
    "    elif trend == -1:\n",
    "        print(f\"The ticker {ticker} is trending lower.\")\n",
    "    # else:\n",
    "    #     print(f\"The ticker {ticker} is not showing a clear trend.\")"
   ]
  },
  {
   "cell_type": "code",
   "execution_count": null,
   "metadata": {},
   "outputs": [],
   "source": []
  }
 ],
 "metadata": {
  "kernelspec": {
   "display_name": "perso",
   "language": "python",
   "name": "python3"
  },
  "language_info": {
   "codemirror_mode": {
    "name": "ipython",
    "version": 3
   },
   "file_extension": ".py",
   "mimetype": "text/x-python",
   "name": "python",
   "nbconvert_exporter": "python",
   "pygments_lexer": "ipython3",
   "version": "3.11.3"
  }
 },
 "nbformat": 4,
 "nbformat_minor": 2
}
