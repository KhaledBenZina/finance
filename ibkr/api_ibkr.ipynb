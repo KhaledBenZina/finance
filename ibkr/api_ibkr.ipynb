{
 "cells": [
  {
   "cell_type": "code",
   "execution_count": 4,
   "metadata": {},
   "outputs": [],
   "source": [
    "from ib_insync import *\n",
    "util.startLoop()"
   ]
  },
  {
   "cell_type": "code",
   "execution_count": 5,
   "metadata": {},
   "outputs": [],
   "source": [
    "ib=IB()"
   ]
  },
  {
   "cell_type": "code",
   "execution_count": 6,
   "metadata": {},
   "outputs": [
    {
     "data": {
      "text/plain": [
       "<IB connected to 127.0.0.1:7497 clientId=1>"
      ]
     },
     "execution_count": 6,
     "metadata": {},
     "output_type": "execute_result"
    }
   ],
   "source": [
    "ib.connect()"
   ]
  },
  {
   "cell_type": "code",
   "execution_count": 7,
   "metadata": {},
   "outputs": [
    {
     "data": {
      "text/plain": [
       "[]"
      ]
     },
     "execution_count": 7,
     "metadata": {},
     "output_type": "execute_result"
    }
   ],
   "source": [
    "ib.positions()"
   ]
  },
  {
   "cell_type": "code",
   "execution_count": 10,
   "metadata": {},
   "outputs": [
    {
     "data": {
      "text/plain": [
       "Stock(symbol='META', exchange='SMART', primaryExchange='NASDAQ', currency='USD')"
      ]
     },
     "execution_count": 10,
     "metadata": {},
     "output_type": "execute_result"
    }
   ],
   "source": [
    "contract = Stock(\"META\",\"SMART\", \"USD\", primaryExchange='NASDAQ')\n",
    "contract"
   ]
  },
  {
   "cell_type": "code",
   "execution_count": 11,
   "metadata": {},
   "outputs": [
    {
     "data": {
      "text/plain": [
       "MarketOrder(action='BUY', totalQuantity=1)"
      ]
     },
     "execution_count": 11,
     "metadata": {},
     "output_type": "execute_result"
    }
   ],
   "source": [
    "order  = MarketOrder(action=\"BUY\",totalQuantity=1)\n",
    "order"
   ]
  },
  {
   "cell_type": "code",
   "execution_count": 12,
   "metadata": {},
   "outputs": [],
   "source": [
    "trade = ib.placeOrder(contract,order)"
   ]
  },
  {
   "cell_type": "code",
   "execution_count": 14,
   "metadata": {},
   "outputs": [
    {
     "data": {
      "text/plain": [
       "[TradeLogEntry(time=datetime.datetime(2023, 11, 1, 14, 45, 2, 305630, tzinfo=datetime.timezone.utc), status='PendingSubmit', message='', errorCode=0),\n",
       " TradeLogEntry(time=datetime.datetime(2023, 11, 1, 14, 45, 20, 236843, tzinfo=datetime.timezone.utc), status='Submitted', message='', errorCode=0),\n",
       " TradeLogEntry(time=datetime.datetime(2023, 11, 1, 14, 45, 52, 652372, tzinfo=datetime.timezone.utc), status='Submitted', message='Fill 1.0@307.65', errorCode=0),\n",
       " TradeLogEntry(time=datetime.datetime(2023, 11, 1, 14, 45, 52, 653839, tzinfo=datetime.timezone.utc), status='Filled', message='', errorCode=0)]"
      ]
     },
     "execution_count": 14,
     "metadata": {},
     "output_type": "execute_result"
    }
   ],
   "source": [
    "trade.log"
   ]
  },
  {
   "cell_type": "code",
   "execution_count": 15,
   "metadata": {},
   "outputs": [
    {
     "data": {
      "text/plain": [
       "Trade(contract=Stock(symbol='META', exchange='SMART', primaryExchange='NASDAQ', currency='USD'), order=MarketOrder(orderId=5, clientId=1, permId=1030594226, action='BUY', totalQuantity=1.0, lmtPrice=307.78, auxPrice=0.0), orderStatus=OrderStatus(orderId=5, status='Filled', filled=1.0, remaining=0.0, avgFillPrice=307.65, permId=1030594226, parentId=0, lastFillPrice=307.65, clientId=1, whyHeld='', mktCapPrice=0.0), fills=[Fill(contract=Stock(conId=107113386, symbol='META', exchange='ARCA', currency='USD', localSymbol='META', tradingClass='NMS'), execution=Execution(execId='00012ec5.654218a1.01.01', time=datetime.datetime(2023, 11, 1, 14, 45, 52, tzinfo=datetime.timezone.utc), acctNumber='DU7979119', exchange='ARCA', side='BOT', shares=1.0, price=307.65, permId=1030594226, clientId=1, orderId=5, liquidation=0, cumQty=1.0, avgPrice=307.65, orderRef='', evRule='', evMultiplier=0.0, modelCode='', lastLiquidity=2), commissionReport=CommissionReport(execId='00012ec5.654218a1.01.01', commission=1.0, currency='USD', realizedPNL=0.0, yield_=0.0, yieldRedemptionDate=0), time=datetime.datetime(2023, 11, 1, 14, 45, 52, 652372, tzinfo=datetime.timezone.utc))], log=[TradeLogEntry(time=datetime.datetime(2023, 11, 1, 14, 45, 2, 305630, tzinfo=datetime.timezone.utc), status='PendingSubmit', message='', errorCode=0), TradeLogEntry(time=datetime.datetime(2023, 11, 1, 14, 45, 20, 236843, tzinfo=datetime.timezone.utc), status='Submitted', message='', errorCode=0), TradeLogEntry(time=datetime.datetime(2023, 11, 1, 14, 45, 52, 652372, tzinfo=datetime.timezone.utc), status='Submitted', message='Fill 1.0@307.65', errorCode=0), TradeLogEntry(time=datetime.datetime(2023, 11, 1, 14, 45, 52, 653839, tzinfo=datetime.timezone.utc), status='Filled', message='', errorCode=0)], advancedError='')"
      ]
     },
     "execution_count": 15,
     "metadata": {},
     "output_type": "execute_result"
    },
    {
     "name": "stderr",
     "output_type": "stream",
     "text": [
      "Error 1100, reqId -1: Connectivity between IBKR and Trader Workstation has been lost.\n",
      "Error 1100, reqId -1: Connectivity between IBKR and Trader Workstation has been lost.\n",
      "Error 1102, reqId -1: Connectivity between IBKR and Trader Workstation has been restored - data maintained. All data farms are connected: usfarm.nj; usfuture; cashfarm; usfarm; euhmds; fundfarm; ushmds; secdefil.\n",
      "Peer closed connection.\n"
     ]
    }
   ],
   "source": [
    "trade"
   ]
  },
  {
   "cell_type": "code",
   "execution_count": 9,
   "metadata": {},
   "outputs": [],
   "source": [
    "ib.disconnect()"
   ]
  },
  {
   "cell_type": "code",
   "execution_count": null,
   "metadata": {},
   "outputs": [],
   "source": []
  }
 ],
 "metadata": {
  "kernelspec": {
   "display_name": "perso",
   "language": "python",
   "name": "python3"
  },
  "language_info": {
   "codemirror_mode": {
    "name": "ipython",
    "version": 3
   },
   "file_extension": ".py",
   "mimetype": "text/x-python",
   "name": "python",
   "nbconvert_exporter": "python",
   "pygments_lexer": "ipython3",
   "version": "3.1.undefined"
  }
 },
 "nbformat": 4,
 "nbformat_minor": 2
}
