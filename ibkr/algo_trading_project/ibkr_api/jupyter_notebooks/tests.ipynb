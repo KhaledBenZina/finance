{
 "cells": [
  {
   "cell_type": "code",
   "execution_count": null,
   "metadata": {},
   "outputs": [
    {
     "name": "stdout",
     "output_type": "stream",
     "text": [
      "Ticker(contract=Stock(symbol='NVDA', exchange='SMART', currency='USD'))\n",
      "NVDA Market Price: nan\n"
     ]
    }
   ],
   "source": [
    "import nest_asyncio\n",
    "from ib_insync import *\n",
    "\n",
    "# Fix event loop issue in Jupyter\n",
    "nest_asyncio.apply()\n",
    "\n",
    "# Connect to TWS\n",
    "ib = IB()\n",
    "if ib.isConnected():\n",
    "    ib.disconnect()\n",
    "ib.connect(\"127.0.0.1\", 7497, clientId=1)  # Change port if using Live (4002)\n",
    "\n",
    "# Define the stock contract\n",
    "stock = Stock(\"NVDA\", \"SMART\", \"USD\")\n",
    "\n",
    "# Request market data\n",
    "market_data = ib.reqMktData(stock)\n",
    "print(market_data)\n",
    "\n",
    "#Wait up to 5 seconds for data\n",
    "for _ in range(5):\n",
    "    ib.sleep(1)\n",
    "    if market_data.last is not None:\n",
    "        break  # Exit loop if price is found\n",
    "\n",
    "# Fetch the latest price\n",
    "price = market_data.last if market_data.last is not None else market_data.close\n",
    "\n",
    "# Print result\n",
    "print(f\"NVDA Market Price: {price}\")\n",
    "\n",
    "# Disconnect\n",
    "ib.disconnect()\n"
   ]
  },
  {
   "cell_type": "code",
   "execution_count": null,
   "metadata": {},
   "outputs": [],
   "source": []
  }
 ],
 "metadata": {
  "kernelspec": {
   "display_name": "perso",
   "language": "python",
   "name": "python3"
  },
  "language_info": {
   "codemirror_mode": {
    "name": "ipython",
    "version": 3
   },
   "file_extension": ".py",
   "mimetype": "text/x-python",
   "name": "python",
   "nbconvert_exporter": "python",
   "pygments_lexer": "ipython3",
   "version": "3.11.3"
  }
 },
 "nbformat": 4,
 "nbformat_minor": 2
}
